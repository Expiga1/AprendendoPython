{
  "nbformat": 4,
  "nbformat_minor": 0,
  "metadata": {
    "colab": {
      "name": "EstruturaSequencial.ipynb",
      "provenance": [],
      "collapsed_sections": [],
      "authorship_tag": "ABX9TyPbJ4QlsicvN9ykjyjb6sVl",
      "include_colab_link": true
    },
    "kernelspec": {
      "name": "python3",
      "display_name": "Python 3"
    }
  },
  "cells": [
    {
      "cell_type": "markdown",
      "metadata": {
        "id": "view-in-github",
        "colab_type": "text"
      },
      "source": [
        "<a href=\"https://colab.research.google.com/github/Expiga1/AprendendoPython/blob/master/EstruturaSequencial.ipynb\" target=\"_parent\"><img src=\"https://colab.research.google.com/assets/colab-badge.svg\" alt=\"Open In Colab\"/></a>"
      ]
    },
    {
      "cell_type": "code",
      "metadata": {
        "id": "_kJyHG5kLxag",
        "colab_type": "code",
        "colab": {
          "base_uri": "https://localhost:8080/",
          "height": 34
        },
        "outputId": "ef7136fb-a43a-4e2c-e15e-26d8e1ec19e5"
      },
      "source": [
        "#   1. Faça um Programa que mostre a mensagem \"Alo mundo\" na tela.\n",
        "\n",
        "print(\"Alô,  mundo!\")"
      ],
      "execution_count": 1,
      "outputs": [
        {
          "output_type": "stream",
          "text": [
            "Olá,  mundo\n"
          ],
          "name": "stdout"
        }
      ]
    },
    {
      "cell_type": "code",
      "metadata": {
        "id": "UgzJ1EMtPlwb",
        "colab_type": "code",
        "colab": {
          "base_uri": "https://localhost:8080/",
          "height": 85
        },
        "outputId": "43a2aaef-0c5c-4481-f5da-ddef3e710b20"
      },
      "source": [
        "#  2. Faça um Programa que peça um número e então mostre a mensagem O número \n",
        "#     informado foi [número].\n",
        "\n",
        "print(\"Bem Vindo\\n\")\n",
        "\n",
        "num = int(input(\"Digita um número ai: \"))\n",
        "\n",
        "print(f\"Você digitou {num} !\") "
      ],
      "execution_count": 3,
      "outputs": [
        {
          "output_type": "stream",
          "text": [
            "Bem Vindo\n",
            "\n",
            "Digita um número ai: 1\n",
            "Você digitou 1 !\n"
          ],
          "name": "stdout"
        }
      ]
    },
    {
      "cell_type": "code",
      "metadata": {
        "id": "lfGDDc77eJHi",
        "colab_type": "code",
        "colab": {
          "base_uri": "https://localhost:8080/",
          "height": 102
        },
        "outputId": "bed8c723-b474-46eb-9c84-3cda9340c12d"
      },
      "source": [
        "#  3. Faça um Programa que peça dois números e imprima a soma.\n",
        "\n",
        "print(\"Bem Vindo á CALCULARORA Q SÓ SOMA :O \\n\")\n",
        "\n",
        "\n",
        "num_1 = int(input(\"Digite um número inteiro \"))\n",
        "num_2 = int(input(\"Digite outro número inteiro \"))\n",
        "\n",
        "resultado = (num_1) + (num_2)\n",
        "\n",
        "print(f\"O resultado é {resultado} men! \")"
      ],
      "execution_count": null,
      "outputs": [
        {
          "output_type": "stream",
          "text": [
            "Bem Vindo á CALCULARORA Q SÓ SOMA\n",
            "\n",
            "Digite um número inteiro 1\n",
            "Digite outro número inteiro 1\n",
            "O resultado é 2 men! \n"
          ],
          "name": "stdout"
        }
      ]
    },
    {
      "cell_type": "code",
      "metadata": {
        "id": "RylSbC4Gjeng",
        "colab_type": "code",
        "colab": {
          "base_uri": "https://localhost:8080/",
          "height": 170
        },
        "outputId": "ff6ed6d6-7634-4ddf-bd8d-686d2a47c67a"
      },
      "source": [
        "#   4. Faça um Programa que peça as 4 notas bimestrais e mostre a média.\n",
        "\n",
        "print(\"Bem Vindo\\n\")\n",
        "print(\"Calcule aqui a media das suas notas bimestrais!\\n\")\n",
        "\n",
        "nota_1 = int(input(\"Digite a nota do seu 1º bimestre: \"))\n",
        "nota_2 = int(input(\"Digite a nota do seu 2º bimestre: \"))\n",
        "nota_3 = int(input(\"Digite a nota do seu 3º bimestre: \"))\n",
        "nota_4 = int(input(\"Digite a nota do seu 4º bimestre: \"))\n",
        "\n",
        "media = (nota_1 + nota_2 + nota_3 + nota_4) / (num_bimestres)\n",
        "\n",
        "print(f\"Sua média é {media}.\")"
      ],
      "execution_count": 7,
      "outputs": [
        {
          "output_type": "stream",
          "text": [
            "Bem Vindo\n",
            "\n",
            "Calcule aqui a media das suas notas bimestrais!\n",
            "\n",
            "Digite a nota do seu 1º bimestre: 10\n",
            "Digite a nota do seu 2º bimestre: 10\n",
            "Digite a nota do seu 3º bimestre: 5\n",
            "Digite a nota do seu 4º bimestre: 10\n",
            "Sua média é 8.75.\n"
          ],
          "name": "stdout"
        }
      ]
    },
    {
      "cell_type": "code",
      "metadata": {
        "id": "Pd8-37vYZeoh",
        "colab_type": "code",
        "colab": {
          "base_uri": "https://localhost:8080/",
          "height": 119
        },
        "outputId": "7aad6218-a853-4281-fbea-0e5720021dcd"
      },
      "source": [
        "#  5. Faça um Programa que converta metros para centímetros.\n",
        "\n",
        "\n",
        "print(\"Bem Vindo\\n\")\n",
        "print(\"Converta metros a centimetros !\\n\")\n",
        "\n",
        "metros = int(input(\"Quantos metros você quer converter? \"))\n",
        "\n",
        "result = (metros) / (100)\n",
        "\n",
        "print(f\"{metros} metros é equivalente a {result}cm!\") "
      ],
      "execution_count": 11,
      "outputs": [
        {
          "output_type": "stream",
          "text": [
            "Bem Vindo\n",
            "\n",
            "Converta metros a centimetros !\n",
            "\n",
            "Quantos metros você quer converter? 30\n",
            "30 metros é equivalente a 0.3cm!\n"
          ],
          "name": "stdout"
        }
      ]
    },
    {
      "cell_type": "code",
      "metadata": {
        "id": "p5PgMmJZbp30",
        "colab_type": "code",
        "colab": {
          "base_uri": "https://localhost:8080/",
          "height": 119
        },
        "outputId": "334724f6-c4de-4cd8-f1ea-47cc0ddb6bec"
      },
      "source": [
        "#  6. Faça um Programa que peça o raio de um círculo, calcule e mostre sua área.\n",
        "\n",
        "\n",
        "print(\"Bem Vindo\\n\")\n",
        "print(\"Calcule o raio do seu circulo !\\n\")\n",
        "\n",
        "diam = int(input(\"Digite o diametro do seu circulo: \"))\n",
        "raio = (diam / 2 )\n",
        "\n",
        "print(f\"O raio é {raio}.\")"
      ],
      "execution_count": 12,
      "outputs": [
        {
          "output_type": "stream",
          "text": [
            "Bem Vindo\n",
            "\n",
            "Calcule o raio do seu circulo !\n",
            "\n",
            "Digite o diametro do seu circulo: 4\n",
            "O raio é 2.0.\n"
          ],
          "name": "stdout"
        }
      ]
    },
    {
      "cell_type": "code",
      "metadata": {
        "id": "mCaCI10aexVc",
        "colab_type": "code",
        "colab": {}
      },
      "source": [
        "#   7. Faça um Programa que calcule a área de um quadrado, em seguida\n",
        "#      mostre o dobro desta área para o usuário.\n",
        "\n",
        "print(\"Bem Vindo\\n\")\n",
        "print(\"Calcule o a área do quadrado em Metros\\n\")\n",
        "\n",
        "lado_1 = int(input(\"Digite o Numero do lado: \"))\n",
        "\n",
        "area = (lado_1 **2)\n",
        "\n",
        "print(f\"A área do seu quadrado é de {area} metros.\")"
      ],
      "execution_count": null,
      "outputs": []
    },
    {
      "cell_type": "code",
      "metadata": {
        "id": "UXN_Xr7ji-Ah",
        "colab_type": "code",
        "colab": {}
      },
      "source": [
        "#  8. Faça um Programa que pergunte quanto você ganha por hora e o número de \n",
        "#     horastrabalhadas no mês. Calcule e mostre o total do seu salário no \n",
        "#     referido mês\n",
        "\n"
      ],
      "execution_count": null,
      "outputs": []
    }
  ]
}