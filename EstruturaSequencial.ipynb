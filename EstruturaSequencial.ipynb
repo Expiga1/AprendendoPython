{
  "nbformat": 4,
  "nbformat_minor": 0,
  "metadata": {
    "colab": {
      "name": "EstruturaSequencial.ipynb",
      "provenance": [],
      "collapsed_sections": [],
      "authorship_tag": "ABX9TyOgNVEeMm1T4eEZZD1ieRbg",
      "include_colab_link": true
    },
    "kernelspec": {
      "name": "python3",
      "display_name": "Python 3"
    }
  },
  "cells": [
    {
      "cell_type": "markdown",
      "metadata": {
        "id": "view-in-github",
        "colab_type": "text"
      },
      "source": [
        "<a href=\"https://colab.research.google.com/github/Expiga1/AprendendoPython/blob/master/EstruturaSequencial.ipynb\" target=\"_parent\"><img src=\"https://colab.research.google.com/assets/colab-badge.svg\" alt=\"Open In Colab\"/></a>"
      ]
    },
    {
      "cell_type": "code",
      "metadata": {
        "id": "_kJyHG5kLxag",
        "colab_type": "code",
        "colab": {
          "base_uri": "https://localhost:8080/",
          "height": 34
        },
        "outputId": "ef7136fb-a43a-4e2c-e15e-26d8e1ec19e5"
      },
      "source": [
        "# 1.Faça um Programa que mostre a mensagem \"Alo mundo\" na tela.\n",
        "\n",
        "print(\"Olá,  mundo\")"
      ],
      "execution_count": 1,
      "outputs": [
        {
          "output_type": "stream",
          "text": [
            "Olá,  mundo\n"
          ],
          "name": "stdout"
        }
      ]
    },
    {
      "cell_type": "code",
      "metadata": {
        "id": "UgzJ1EMtPlwb",
        "colab_type": "code",
        "colab": {
          "base_uri": "https://localhost:8080/",
          "height": 85
        },
        "outputId": "43a2aaef-0c5c-4481-f5da-ddef3e710b20"
      },
      "source": [
        "#Faça um Programa que peça um número e então mostre a mensagem O número informado foi [número].\n",
        "\n",
        "print(\"Bem Vindo\\n\")\n",
        "\n",
        "num = int(input(\"Digita um número ai: \"))\n",
        "\n",
        "print(f\"Você digitou {num} !\") "
      ],
      "execution_count": 3,
      "outputs": [
        {
          "output_type": "stream",
          "text": [
            "Bem Vindo\n",
            "\n",
            "Digita um número ai: 1\n",
            "Você digitou 1 !\n"
          ],
          "name": "stdout"
        }
      ]
    },
    {
      "cell_type": "code",
      "metadata": {
        "id": "lfGDDc77eJHi",
        "colab_type": "code",
        "colab": {
          "base_uri": "https://localhost:8080/",
          "height": 102
        },
        "outputId": "bed8c723-b474-46eb-9c84-3cda9340c12d"
      },
      "source": [
        "#Faça um Programa que peça dois números e imprima a soma.\n",
        "\n",
        "print(\"Bem Vindo á CALCULARORA Q SÓ SOMA :O \\n\")\n",
        "\n",
        "\n",
        "num_1 = int(input(\"Digite um número inteiro \"))\n",
        "num_2 = int(input(\"Digite outro número inteiro \"))\n",
        "\n",
        "resultado = (num_1) + (num_2)\n",
        "\n",
        "print(f\"O resultado é {resultado} men! \")"
      ],
      "execution_count": null,
      "outputs": [
        {
          "output_type": "stream",
          "text": [
            "Bem Vindo á CALCULARORA Q SÓ SOMA\n",
            "\n",
            "Digite um número inteiro 1\n",
            "Digite outro número inteiro 1\n",
            "O resultado é 2 men! \n"
          ],
          "name": "stdout"
        }
      ]
    },
    {
      "cell_type": "code",
      "metadata": {
        "id": "RylSbC4Gjeng",
        "colab_type": "code",
        "colab": {}
      },
      "source": [
        "#Faça um Programa que peça as 4 notas bimestrais e mostre a média.\n",
        "\n"
      ],
      "execution_count": null,
      "outputs": []
    },
    {
      "cell_type": "code",
      "metadata": {
        "id": "O4CX9qEmjfHH",
        "colab_type": "code",
        "colab": {}
      },
      "source": [
        ""
      ],
      "execution_count": null,
      "outputs": []
    }
  ]
}